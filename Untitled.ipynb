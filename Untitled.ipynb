{
 "cells": [
  {
   "cell_type": "code",
   "execution_count": 2,
   "id": "02a30d37-bd93-4410-9c49-d6abaf74f33a",
   "metadata": {},
   "outputs": [],
   "source": [
    "import json"
   ]
  },
  {
   "cell_type": "code",
   "execution_count": 143,
   "id": "89133bb3-6bc5-405f-a658-8ea2c572d189",
   "metadata": {},
   "outputs": [],
   "source": [
    "f = open(\"./takeout-20221014T223012Z-001/位置记录/Semantic Location History/2020/2020_DECEMBER.json\")"
   ]
  },
  {
   "cell_type": "code",
   "execution_count": 144,
   "id": "0163e923-e578-40f4-a896-02706533f27f",
   "metadata": {},
   "outputs": [],
   "source": [
    "fc = f.read()"
   ]
  },
  {
   "cell_type": "code",
   "execution_count": 145,
   "id": "0e128474-9f21-4f90-9a67-e612527fbe0e",
   "metadata": {},
   "outputs": [],
   "source": [
    "obj = json.loads(fc)"
   ]
  },
  {
   "cell_type": "code",
   "execution_count": 146,
   "id": "04ef5357-f165-4bca-820e-3cfd8c95e665",
   "metadata": {},
   "outputs": [],
   "source": [
    "obj = obj[\"timelineObjects\"]"
   ]
  },
  {
   "cell_type": "code",
   "execution_count": 155,
   "id": "109697a3-7dd9-4ee5-a99a-1f666d25bfa5",
   "metadata": {},
   "outputs": [],
   "source": [
    "class CO2Trip:\n",
    "    def __init__(self, b,d,dist,act_type):\n",
    "        self.begin_time = b\n",
    "        self.duration = d\n",
    "        self.distance = dist\n",
    "        self.action = act_type\n",
    "        \n",
    "        self.green_type = \"\"\n",
    "        if self.action in [\"WALKING\", \"CYCLING\"]:\n",
    "            self.green_type = \"GREEN\"\n",
    "        elif self.action == \"IN_BUS\":\n",
    "            self.green_type = \"BUS\"\n",
    "        elif self.action in [\"IN_PASSENGER_VEHICLE\", \"MOTORCYCLING\"]:\n",
    "            self.green_type = \"UBER\"\n",
    "        elif self.action == \"IN_SUBWAY\":\n",
    "            self.green_type = \"SUBWAY\"\n",
    "        else:\n",
    "            print(self.begin_time, self.action)\n",
    "            self.green_type = self.action\n",
    "    def __repr__(self):\n",
    "        return \"(Date: {}, Duration: {}, Distance: {}, {}, Green? {})\".format(self.begin_time, self.duration,self.distance, self.action,self.green_type)\n",
    "    def __str__(self):\n",
    "        return self.__repr__()"
   ]
  },
  {
   "cell_type": "code",
   "execution_count": 151,
   "id": "c6f7a271-aa3c-4999-859e-843eff211ed4",
   "metadata": {},
   "outputs": [],
   "source": [
    "from dateutil import parser"
   ]
  },
  {
   "cell_type": "code",
   "execution_count": 156,
   "id": "0a159cb2-dd3c-4e7d-822a-16ef6487fe2e",
   "metadata": {},
   "outputs": [],
   "source": [
    "activities = []\n",
    "interest_field = [\"duration\", \"distance\", \"activityType\", \"confidence\", \"distanceMeters\"]\n",
    "for v in obj:\n",
    "    if 'activitySegment' in v:\n",
    "        v = v[\"activitySegment\"]\n",
    "        d = v[\"duration\"]\n",
    "        bt = d[\"startTimestamp\"]\n",
    "        bt = parser.isoparse(bt).date()\n",
    "        d = (parser.isoparse(d[\"endTimestamp\"]) - parser.isoparse(d[\"startTimestamp\"])).total_seconds()\n",
    "        dis = -1\n",
    "        if \"distance\" in v:\n",
    "            dis = v[\"distance\"]\n",
    "        elif \"distanceMeters\" in v:\n",
    "            dis = v[\"distanceMeters\"]\n",
    "        elif \"waypointPath\" in v and \"distanceMeters\" in v[\"waypointPath\"]:\n",
    "            dis = v[\"waypointPath\"][\"distanceMeters\"]\n",
    "        elif \"simplifiedRawPath\" in v and \"distanceMeters\" in v[\"simplifiedRawPath\"]:\n",
    "            dis = v[\"simplifiedRawPath\"][\"distanceMeters\"]\n",
    "        else:\n",
    "            print(json.dumps(v,indent=\"  \"))\n",
    "\n",
    "        a = v[\"activityType\"]\n",
    "        \n",
    "        # print(dis/d)\n",
    "        if a in [\"UNKNOWN_ACTIVITY_TYPE\", \"FLYING\"]:\n",
    "            continue\n",
    "            \n",
    "        activities.append(CO2Trip(bt,d,dis,a))\n"
   ]
  },
  {
   "cell_type": "code",
   "execution_count": 153,
   "id": "d2f6c8ed-6d98-4703-94b1-e6d622d84b21",
   "metadata": {},
   "outputs": [
    {
     "data": {
      "text/plain": [
       "76"
      ]
     },
     "execution_count": 153,
     "metadata": {},
     "output_type": "execute_result"
    }
   ],
   "source": [
    "len(activities)"
   ]
  },
  {
   "cell_type": "code",
   "execution_count": 142,
   "id": "267808b9-33a3-43d8-8b08-76d7944967e9",
   "metadata": {},
   "outputs": [
    {
     "name": "stdout",
     "output_type": "stream",
     "text": [
      "(Date: 2017-10-05, Duration: 1355.0, Distance: 4863, IN_PASSENGER_VEHICLE, Green? UBER)\n",
      "(Date: 2017-10-05, Duration: 915.883, Distance: 4823, IN_PASSENGER_VEHICLE, Green? UBER)\n",
      "(Date: 2017-10-06, Duration: 417.683, Distance: 3331, IN_PASSENGER_VEHICLE, Green? UBER)\n",
      "(Date: 2017-10-06, Duration: 303.707, Distance: 1615, IN_PASSENGER_VEHICLE, Green? UBER)\n",
      "(Date: 2017-10-06, Duration: 934.327, Distance: 4925, IN_PASSENGER_VEHICLE, Green? UBER)\n",
      "(Date: 2017-10-06, Duration: 1120.69, Distance: 4036.745337197633, IN_BUS, Green? BUS)\n",
      "(Date: 2017-10-06, Duration: 1754.45, Distance: 3609, IN_BUS, Green? BUS)\n"
     ]
    }
   ],
   "source": [
    "for a in activities:\n",
    "    print(a)"
   ]
  },
  {
   "cell_type": "code",
   "execution_count": null,
   "id": "dae54aea-985d-4bc8-a434-6e49ae7094c4",
   "metadata": {},
   "outputs": [],
   "source": []
  }
 ],
 "metadata": {
  "kernelspec": {
   "display_name": "Python 3 (ipykernel)",
   "language": "python",
   "name": "python3"
  },
  "language_info": {
   "codemirror_mode": {
    "name": "ipython",
    "version": 3
   },
   "file_extension": ".py",
   "mimetype": "text/x-python",
   "name": "python",
   "nbconvert_exporter": "python",
   "pygments_lexer": "ipython3",
   "version": "3.8.10"
  }
 },
 "nbformat": 4,
 "nbformat_minor": 5
}
