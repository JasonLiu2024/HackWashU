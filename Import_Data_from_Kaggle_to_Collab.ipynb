{
  "nbformat": 4,
  "nbformat_minor": 0,
  "metadata": {
    "colab": {
      "provenance": [],
      "authorship_tag": "ABX9TyNbjeAD45LmW1Z/L+UEirG7",
      "include_colab_link": true
    },
    "kernelspec": {
      "name": "python3",
      "display_name": "Python 3"
    },
    "language_info": {
      "name": "python"
    }
  },
  "cells": [
    {
      "cell_type": "markdown",
      "metadata": {
        "id": "view-in-github",
        "colab_type": "text"
      },
      "source": [
        "<a href=\"https://colab.research.google.com/github/JasonLiu2024/HackWashU2022/blob/main/Import_Data_from_Kaggle_to_Collab.ipynb\" target=\"_parent\"><img src=\"https://colab.research.google.com/assets/colab-badge.svg\" alt=\"Open In Colab\"/></a>"
      ]
    },
    {
      "cell_type": "code",
      "source": [
        "#Jason's code below"
      ],
      "metadata": {
        "id": "bRr-gAQmuZY4"
      },
      "execution_count": null,
      "outputs": []
    },
    {
      "cell_type": "code",
      "execution_count": null,
      "metadata": {
        "id": "RmNiIaXfikK7"
      },
      "outputs": [],
      "source": [
        "!pip install -q kaggle"
      ]
    },
    {
      "cell_type": "code",
      "source": [
        "from google.colab import files\n",
        "files.upload()"
      ],
      "metadata": {
        "colab": {
          "base_uri": "https://localhost:8080/",
          "height": 89
        },
        "id": "VIjZZDz3lLYe",
        "outputId": "f9833de8-0f2d-47be-a4d3-6c1c9a33afc9"
      },
      "execution_count": null,
      "outputs": [
        {
          "output_type": "display_data",
          "data": {
            "text/plain": [
              "<IPython.core.display.HTML object>"
            ],
            "text/html": [
              "\n",
              "     <input type=\"file\" id=\"files-ee16985b-b7da-4569-92d4-aa23f9e1959c\" name=\"files[]\" multiple disabled\n",
              "        style=\"border:none\" />\n",
              "     <output id=\"result-ee16985b-b7da-4569-92d4-aa23f9e1959c\">\n",
              "      Upload widget is only available when the cell has been executed in the\n",
              "      current browser session. Please rerun this cell to enable.\n",
              "      </output>\n",
              "      <script>// Copyright 2017 Google LLC\n",
              "//\n",
              "// Licensed under the Apache License, Version 2.0 (the \"License\");\n",
              "// you may not use this file except in compliance with the License.\n",
              "// You may obtain a copy of the License at\n",
              "//\n",
              "//      http://www.apache.org/licenses/LICENSE-2.0\n",
              "//\n",
              "// Unless required by applicable law or agreed to in writing, software\n",
              "// distributed under the License is distributed on an \"AS IS\" BASIS,\n",
              "// WITHOUT WARRANTIES OR CONDITIONS OF ANY KIND, either express or implied.\n",
              "// See the License for the specific language governing permissions and\n",
              "// limitations under the License.\n",
              "\n",
              "/**\n",
              " * @fileoverview Helpers for google.colab Python module.\n",
              " */\n",
              "(function(scope) {\n",
              "function span(text, styleAttributes = {}) {\n",
              "  const element = document.createElement('span');\n",
              "  element.textContent = text;\n",
              "  for (const key of Object.keys(styleAttributes)) {\n",
              "    element.style[key] = styleAttributes[key];\n",
              "  }\n",
              "  return element;\n",
              "}\n",
              "\n",
              "// Max number of bytes which will be uploaded at a time.\n",
              "const MAX_PAYLOAD_SIZE = 100 * 1024;\n",
              "\n",
              "function _uploadFiles(inputId, outputId) {\n",
              "  const steps = uploadFilesStep(inputId, outputId);\n",
              "  const outputElement = document.getElementById(outputId);\n",
              "  // Cache steps on the outputElement to make it available for the next call\n",
              "  // to uploadFilesContinue from Python.\n",
              "  outputElement.steps = steps;\n",
              "\n",
              "  return _uploadFilesContinue(outputId);\n",
              "}\n",
              "\n",
              "// This is roughly an async generator (not supported in the browser yet),\n",
              "// where there are multiple asynchronous steps and the Python side is going\n",
              "// to poll for completion of each step.\n",
              "// This uses a Promise to block the python side on completion of each step,\n",
              "// then passes the result of the previous step as the input to the next step.\n",
              "function _uploadFilesContinue(outputId) {\n",
              "  const outputElement = document.getElementById(outputId);\n",
              "  const steps = outputElement.steps;\n",
              "\n",
              "  const next = steps.next(outputElement.lastPromiseValue);\n",
              "  return Promise.resolve(next.value.promise).then((value) => {\n",
              "    // Cache the last promise value to make it available to the next\n",
              "    // step of the generator.\n",
              "    outputElement.lastPromiseValue = value;\n",
              "    return next.value.response;\n",
              "  });\n",
              "}\n",
              "\n",
              "/**\n",
              " * Generator function which is called between each async step of the upload\n",
              " * process.\n",
              " * @param {string} inputId Element ID of the input file picker element.\n",
              " * @param {string} outputId Element ID of the output display.\n",
              " * @return {!Iterable<!Object>} Iterable of next steps.\n",
              " */\n",
              "function* uploadFilesStep(inputId, outputId) {\n",
              "  const inputElement = document.getElementById(inputId);\n",
              "  inputElement.disabled = false;\n",
              "\n",
              "  const outputElement = document.getElementById(outputId);\n",
              "  outputElement.innerHTML = '';\n",
              "\n",
              "  const pickedPromise = new Promise((resolve) => {\n",
              "    inputElement.addEventListener('change', (e) => {\n",
              "      resolve(e.target.files);\n",
              "    });\n",
              "  });\n",
              "\n",
              "  const cancel = document.createElement('button');\n",
              "  inputElement.parentElement.appendChild(cancel);\n",
              "  cancel.textContent = 'Cancel upload';\n",
              "  const cancelPromise = new Promise((resolve) => {\n",
              "    cancel.onclick = () => {\n",
              "      resolve(null);\n",
              "    };\n",
              "  });\n",
              "\n",
              "  // Wait for the user to pick the files.\n",
              "  const files = yield {\n",
              "    promise: Promise.race([pickedPromise, cancelPromise]),\n",
              "    response: {\n",
              "      action: 'starting',\n",
              "    }\n",
              "  };\n",
              "\n",
              "  cancel.remove();\n",
              "\n",
              "  // Disable the input element since further picks are not allowed.\n",
              "  inputElement.disabled = true;\n",
              "\n",
              "  if (!files) {\n",
              "    return {\n",
              "      response: {\n",
              "        action: 'complete',\n",
              "      }\n",
              "    };\n",
              "  }\n",
              "\n",
              "  for (const file of files) {\n",
              "    const li = document.createElement('li');\n",
              "    li.append(span(file.name, {fontWeight: 'bold'}));\n",
              "    li.append(span(\n",
              "        `(${file.type || 'n/a'}) - ${file.size} bytes, ` +\n",
              "        `last modified: ${\n",
              "            file.lastModifiedDate ? file.lastModifiedDate.toLocaleDateString() :\n",
              "                                    'n/a'} - `));\n",
              "    const percent = span('0% done');\n",
              "    li.appendChild(percent);\n",
              "\n",
              "    outputElement.appendChild(li);\n",
              "\n",
              "    const fileDataPromise = new Promise((resolve) => {\n",
              "      const reader = new FileReader();\n",
              "      reader.onload = (e) => {\n",
              "        resolve(e.target.result);\n",
              "      };\n",
              "      reader.readAsArrayBuffer(file);\n",
              "    });\n",
              "    // Wait for the data to be ready.\n",
              "    let fileData = yield {\n",
              "      promise: fileDataPromise,\n",
              "      response: {\n",
              "        action: 'continue',\n",
              "      }\n",
              "    };\n",
              "\n",
              "    // Use a chunked sending to avoid message size limits. See b/62115660.\n",
              "    let position = 0;\n",
              "    do {\n",
              "      const length = Math.min(fileData.byteLength - position, MAX_PAYLOAD_SIZE);\n",
              "      const chunk = new Uint8Array(fileData, position, length);\n",
              "      position += length;\n",
              "\n",
              "      const base64 = btoa(String.fromCharCode.apply(null, chunk));\n",
              "      yield {\n",
              "        response: {\n",
              "          action: 'append',\n",
              "          file: file.name,\n",
              "          data: base64,\n",
              "        },\n",
              "      };\n",
              "\n",
              "      let percentDone = fileData.byteLength === 0 ?\n",
              "          100 :\n",
              "          Math.round((position / fileData.byteLength) * 100);\n",
              "      percent.textContent = `${percentDone}% done`;\n",
              "\n",
              "    } while (position < fileData.byteLength);\n",
              "  }\n",
              "\n",
              "  // All done.\n",
              "  yield {\n",
              "    response: {\n",
              "      action: 'complete',\n",
              "    }\n",
              "  };\n",
              "}\n",
              "\n",
              "scope.google = scope.google || {};\n",
              "scope.google.colab = scope.google.colab || {};\n",
              "scope.google.colab._files = {\n",
              "  _uploadFiles,\n",
              "  _uploadFilesContinue,\n",
              "};\n",
              "})(self);\n",
              "</script> "
            ]
          },
          "metadata": {}
        },
        {
          "output_type": "stream",
          "name": "stdout",
          "text": [
            "Saving kaggle.json to kaggle.json\n"
          ]
        },
        {
          "output_type": "execute_result",
          "data": {
            "text/plain": [
              "{'kaggle.json': b'{\"username\":\"gearsgears\",\"key\":\"a79e9f947b7d08769038390d41a2f4b5\"}'}"
            ]
          },
          "metadata": {},
          "execution_count": 2
        }
      ]
    },
    {
      "cell_type": "code",
      "source": [
        "! mkdir ~/.kaggle"
      ],
      "metadata": {
        "id": "wbkoYd4yldMe"
      },
      "execution_count": null,
      "outputs": []
    },
    {
      "cell_type": "code",
      "source": [
        "! cp kaggle.json ~/.kaggle"
      ],
      "metadata": {
        "id": "oZAkfVL7ln-L"
      },
      "execution_count": null,
      "outputs": []
    },
    {
      "cell_type": "code",
      "source": [
        "! chmod 600 ~/.kaggle/kaggle.json"
      ],
      "metadata": {
        "id": "hqw9AKymlwy3"
      },
      "execution_count": null,
      "outputs": []
    },
    {
      "cell_type": "code",
      "source": [
        "! kaggle datasets list"
      ],
      "metadata": {
        "colab": {
          "base_uri": "https://localhost:8080/"
        },
        "id": "FvjjZriVl-LQ",
        "outputId": "cfa548ae-4173-4ee4-c741-d51b78c08a6b"
      },
      "execution_count": null,
      "outputs": [
        {
          "output_type": "stream",
          "name": "stdout",
          "text": [
            "ref                                                           title                                                size  lastUpdated          downloadCount  voteCount  usabilityRating  \n",
            "------------------------------------------------------------  --------------------------------------------------  -----  -------------------  -------------  ---------  ---------------  \n",
            "akshaydattatraykhare/diabetes-dataset                         Diabetes Dataset                                      9KB  2022-10-06 08:55:25           2743         83  1.0              \n",
            "whenamancodes/covid-19-coronavirus-pandemic-dataset           COVID -19 Coronavirus Pandemic Dataset               11KB  2022-09-30 04:05:11           2389         68  1.0              \n",
            "evangower/premier-league-matches-19922022                     Premier League Matches 1992-2022                     78KB  2022-10-03 02:18:33           1040         42  1.0              \n",
            "whenamancodes/student-performance                             Student Performance                                 104KB  2022-10-07 05:14:47           4797        118  1.0              \n",
            "adnananam/spotify-artist-stats                                Spotify Artist Stats                                 28KB  2022-09-22 03:22:44           1299         33  1.0              \n",
            "narayan63/netflix-popular-movies-dataset                      Netflix popular movies dataset                        1MB  2022-09-24 08:23:22           2935         52  0.9411765        \n",
            "whenamancodes/students-performance-in-exams                   Students Performance in Exams                         9KB  2022-09-14 15:14:54           5079         95  1.0              \n",
            "iamsouravbanerjee/world-population-dataset                    World Population Dataset                             17KB  2022-08-31 11:20:04          14919        417  1.0              \n",
            "pantanjali/unemployment-dataset                               Unemployment dataset                                 17KB  2022-09-08 08:26:10           6013        136  1.0              \n",
            "whenamancodes/alcohol-effects-on-study                        Alcohol Effects On Study                             18KB  2022-09-15 03:21:04           3542         81  1.0              \n",
            "whenamancodes/hr-employee-attrition                           Employee Analysis | Attrition Report                 50KB  2022-09-12 10:46:33           2765         69  1.0              \n",
            "whenamancodes/tesla-inc-stock-market-analysis-founding-years  TESLA Inc | Stock Market Analysis | Founding Years   62KB  2022-09-20 14:04:26           1084         39  1.0              \n",
            "arslanali4343/covid19-data-from-world                         COVID-19 data from World                             11MB  2022-10-02 05:56:12           1184         33  0.9411765        \n",
            "anushabellam/trending-videos-on-youtube                       Trending videos on Youtube                           29KB  2022-09-20 12:12:35           1743         43  1.0              \n",
            "sergylog/ab-test-data                                         A/B test data                                        28KB  2022-09-16 17:29:06           1361        149  1.0              \n",
            "sanjeetsinghnaik/fifa-23-players-dataset                      Fifa 23 Players Dataset                               2MB  2022-10-03 06:05:45            715         34  0.9705882        \n",
            "madhurpant/world-economic-data                                World Economic Data                                   5KB  2022-09-24 10:15:12           1406         37  1.0              \n",
            "thedevastator/airplane-crashes-and-fatalities                 Airplane Crashes and Fatalities                     582KB  2022-09-20 05:30:35           2294         67  1.0              \n",
            "dansbecker/melbourne-housing-snapshot                         Melbourne Housing Snapshot                          451KB  2018-06-05 12:52:24          97662       1155  0.7058824        \n",
            "guerl1/fifa-23-complete-player-database                       FIFA 23 Complete Player Database                      1MB  2022-10-03 12:31:53            670         25  1.0              \n"
          ]
        }
      ]
    },
    {
      "cell_type": "code",
      "source": [
        "#Downloads data from Kaggle\n",
        "! kaggle datasets download debajyotipodder/co2-emission-by-vehicles #the parameter after 'download' comes from the URL of the Kaggle dataset."
      ],
      "metadata": {
        "colab": {
          "base_uri": "https://localhost:8080/"
        },
        "id": "0lAo-4mImtTq",
        "outputId": "ae06039a-94a9-4f32-840f-7d65e870b7e4"
      },
      "execution_count": null,
      "outputs": [
        {
          "output_type": "stream",
          "name": "stdout",
          "text": [
            "Downloading co2-emission-by-vehicles.zip to /content\n",
            "\r  0% 0.00/88.3k [00:00<?, ?B/s]\n",
            "\r100% 88.3k/88.3k [00:00<00:00, 37.2MB/s]\n"
          ]
        }
      ]
    },
    {
      "cell_type": "code",
      "source": [
        "! unzip co2-emission-by-vehicles"
      ],
      "metadata": {
        "colab": {
          "base_uri": "https://localhost:8080/"
        },
        "id": "vjwAdeI5qeww",
        "outputId": "8ed57710-430a-409a-ac57-bcf3989deb71"
      },
      "execution_count": null,
      "outputs": [
        {
          "output_type": "stream",
          "name": "stdout",
          "text": [
            "Archive:  co2-emission-by-vehicles.zip\n",
            "  inflating: CO2 Emissions_Canada.csv  \n",
            "  inflating: Data Description.csv    \n"
          ]
        }
      ]
    },
    {
      "cell_type": "code",
      "source": [
        "import numpy as np\n",
        "import pandas as pd\n",
        "import os\n",
        "  "
      ],
      "metadata": {
        "id": "lNHUEv0uqoSb"
      },
      "execution_count": null,
      "outputs": []
    },
    {
      "cell_type": "code",
      "source": [
        "#Passing data from the csv file into a pandas dataframe.\n",
        "data = pd.read_csv('/content/CO2 Emissions_Canada.csv')"
      ],
      "metadata": {
        "id": "J7Z7dVwkq4-H"
      },
      "execution_count": null,
      "outputs": []
    },
    {
      "cell_type": "code",
      "source": [
        "data.head"
      ],
      "metadata": {
        "colab": {
          "base_uri": "https://localhost:8080/"
        },
        "id": "SMXeM5dsrPoI",
        "outputId": "0a2a18a3-01bf-4ec7-c07b-41d9cbeae0ff"
      },
      "execution_count": null,
      "outputs": [
        {
          "output_type": "execute_result",
          "data": {
            "text/plain": [
              "<bound method NDFrame.head of        Make        Model   Vehicle Class  Engine Size(L)  Cylinders  \\\n",
              "0     ACURA          ILX         COMPACT             2.0          4   \n",
              "1     ACURA          ILX         COMPACT             2.4          4   \n",
              "2     ACURA   ILX HYBRID         COMPACT             1.5          4   \n",
              "3     ACURA      MDX 4WD     SUV - SMALL             3.5          6   \n",
              "4     ACURA      RDX AWD     SUV - SMALL             3.5          6   \n",
              "...     ...          ...             ...             ...        ...   \n",
              "7380  VOLVO  XC40 T5 AWD     SUV - SMALL             2.0          4   \n",
              "7381  VOLVO  XC60 T5 AWD     SUV - SMALL             2.0          4   \n",
              "7382  VOLVO  XC60 T6 AWD     SUV - SMALL             2.0          4   \n",
              "7383  VOLVO  XC90 T5 AWD  SUV - STANDARD             2.0          4   \n",
              "7384  VOLVO  XC90 T6 AWD  SUV - STANDARD             2.0          4   \n",
              "\n",
              "     Transmission Fuel Type  Fuel Consumption City (L/100 km)  \\\n",
              "0             AS5         Z                               9.9   \n",
              "1              M6         Z                              11.2   \n",
              "2             AV7         Z                               6.0   \n",
              "3             AS6         Z                              12.7   \n",
              "4             AS6         Z                              12.1   \n",
              "...           ...       ...                               ...   \n",
              "7380          AS8         Z                              10.7   \n",
              "7381          AS8         Z                              11.2   \n",
              "7382          AS8         Z                              11.7   \n",
              "7383          AS8         Z                              11.2   \n",
              "7384          AS8         Z                              12.2   \n",
              "\n",
              "      Fuel Consumption Hwy (L/100 km)  Fuel Consumption Comb (L/100 km)  \\\n",
              "0                                 6.7                               8.5   \n",
              "1                                 7.7                               9.6   \n",
              "2                                 5.8                               5.9   \n",
              "3                                 9.1                              11.1   \n",
              "4                                 8.7                              10.6   \n",
              "...                               ...                               ...   \n",
              "7380                              7.7                               9.4   \n",
              "7381                              8.3                               9.9   \n",
              "7382                              8.6                              10.3   \n",
              "7383                              8.3                               9.9   \n",
              "7384                              8.7                              10.7   \n",
              "\n",
              "      Fuel Consumption Comb (mpg)  CO2 Emissions(g/km)  \n",
              "0                              33                  196  \n",
              "1                              29                  221  \n",
              "2                              48                  136  \n",
              "3                              25                  255  \n",
              "4                              27                  244  \n",
              "...                           ...                  ...  \n",
              "7380                           30                  219  \n",
              "7381                           29                  232  \n",
              "7382                           27                  240  \n",
              "7383                           29                  232  \n",
              "7384                           26                  248  \n",
              "\n",
              "[7385 rows x 12 columns]>"
            ]
          },
          "metadata": {},
          "execution_count": 11
        }
      ]
    },
    {
      "cell_type": "code",
      "source": [
        "#The WalkingTrees app provides a list of vehicle models for the user to register their personal vehicle as\n",
        "#To streamline the selection process, \n",
        "#we want to avoid having the user first choose the Model of their car, and then the Vehicle Class of that care\n",
        "#Therefore, I combine the Model columne and Vehicle Class column into one column\n",
        "data[\"Car\"] = data[\"Model\"] + data[\"Vehicle Class\"]"
      ],
      "metadata": {
        "id": "MC-BuH8IJsMA"
      },
      "execution_count": null,
      "outputs": []
    },
    {
      "cell_type": "code",
      "source": [
        "data.head"
      ],
      "metadata": {
        "id": "B6w4L0k7KMNz",
        "outputId": "8fbd61ef-b552-4610-d92e-f2323aebaa4e",
        "colab": {
          "base_uri": "https://localhost:8080/"
        }
      },
      "execution_count": null,
      "outputs": [
        {
          "output_type": "execute_result",
          "data": {
            "text/plain": [
              "<bound method NDFrame.head of        Make        Model   Vehicle Class  Engine Size(L)  Cylinders  \\\n",
              "0     ACURA          ILX         COMPACT             2.0          4   \n",
              "1     ACURA          ILX         COMPACT             2.4          4   \n",
              "2     ACURA   ILX HYBRID         COMPACT             1.5          4   \n",
              "3     ACURA      MDX 4WD     SUV - SMALL             3.5          6   \n",
              "4     ACURA      RDX AWD     SUV - SMALL             3.5          6   \n",
              "...     ...          ...             ...             ...        ...   \n",
              "7380  VOLVO  XC40 T5 AWD     SUV - SMALL             2.0          4   \n",
              "7381  VOLVO  XC60 T5 AWD     SUV - SMALL             2.0          4   \n",
              "7382  VOLVO  XC60 T6 AWD     SUV - SMALL             2.0          4   \n",
              "7383  VOLVO  XC90 T5 AWD  SUV - STANDARD             2.0          4   \n",
              "7384  VOLVO  XC90 T6 AWD  SUV - STANDARD             2.0          4   \n",
              "\n",
              "     Transmission Fuel Type  Fuel Consumption City (L/100 km)  \\\n",
              "0             AS5         Z                               9.9   \n",
              "1              M6         Z                              11.2   \n",
              "2             AV7         Z                               6.0   \n",
              "3             AS6         Z                              12.7   \n",
              "4             AS6         Z                              12.1   \n",
              "...           ...       ...                               ...   \n",
              "7380          AS8         Z                              10.7   \n",
              "7381          AS8         Z                              11.2   \n",
              "7382          AS8         Z                              11.7   \n",
              "7383          AS8         Z                              11.2   \n",
              "7384          AS8         Z                              12.2   \n",
              "\n",
              "      Fuel Consumption Hwy (L/100 km)  Fuel Consumption Comb (L/100 km)  \\\n",
              "0                                 6.7                               8.5   \n",
              "1                                 7.7                               9.6   \n",
              "2                                 5.8                               5.9   \n",
              "3                                 9.1                              11.1   \n",
              "4                                 8.7                              10.6   \n",
              "...                               ...                               ...   \n",
              "7380                              7.7                               9.4   \n",
              "7381                              8.3                               9.9   \n",
              "7382                              8.6                              10.3   \n",
              "7383                              8.3                               9.9   \n",
              "7384                              8.7                              10.7   \n",
              "\n",
              "      Fuel Consumption Comb (mpg)  CO2 Emissions(g/km)  \\\n",
              "0                              33                  196   \n",
              "1                              29                  221   \n",
              "2                              48                  136   \n",
              "3                              25                  255   \n",
              "4                              27                  244   \n",
              "...                           ...                  ...   \n",
              "7380                           30                  219   \n",
              "7381                           29                  232   \n",
              "7382                           27                  240   \n",
              "7383                           29                  232   \n",
              "7384                           26                  248   \n",
              "\n",
              "                            Car  \n",
              "0                    ILXCOMPACT  \n",
              "1                    ILXCOMPACT  \n",
              "2             ILX HYBRIDCOMPACT  \n",
              "3            MDX 4WDSUV - SMALL  \n",
              "4            RDX AWDSUV - SMALL  \n",
              "...                         ...  \n",
              "7380     XC40 T5 AWDSUV - SMALL  \n",
              "7381     XC60 T5 AWDSUV - SMALL  \n",
              "7382     XC60 T6 AWDSUV - SMALL  \n",
              "7383  XC90 T5 AWDSUV - STANDARD  \n",
              "7384  XC90 T6 AWDSUV - STANDARD  \n",
              "\n",
              "[7385 rows x 13 columns]>"
            ]
          },
          "metadata": {},
          "execution_count": 14
        }
      ]
    }
  ]
}